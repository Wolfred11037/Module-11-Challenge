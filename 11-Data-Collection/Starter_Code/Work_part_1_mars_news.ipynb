{
 "cells": [
  {
   "cell_type": "code",
   "execution_count": null,
   "id": "4989aea5",
   "metadata": {},
   "outputs": [],
   "source": [
    "# Import Splinter and BeautifulSoup\n",
    "from splinter import Browser\n",
    "from bs4 import BeautifulSoup"
   ]
  },
  {
   "cell_type": "code",
   "execution_count": null,
   "id": "98f0b60c",
   "metadata": {},
   "outputs": [],
   "source": [
    "browser = Browser('chrome')"
   ]
  },
  {
   "cell_type": "code",
   "execution_count": null,
   "id": "335c7115",
   "metadata": {},
   "outputs": [],
   "source": [
    "# Visit the URL\n",
    "url = 'https://static.bc-edx.com/data/web/mars_news/index.html'\n",
    "browser.visit(url)\n",
    "\n",
    "# Get the HTML content\n",
    "html = browser.html\n",
    "\n",
    "# Create a Beautiful Soup object\n",
    "soup = BeautifulSoup(html, 'html.parser')"
   ]
  },
  {
   "cell_type": "code",
   "execution_count": null,
   "id": "4a8d57d8",
   "metadata": {},
   "outputs": [],
   "source": [
    "# Extract all the text elements\n",
    "for text in text_elements:\n",
    "    print(text)\n"
   ]
  },
  {
   "cell_type": "code",
   "execution_count": null,
   "id": "432661c3",
   "metadata": {},
   "outputs": [],
   "source": [
    "# Create an empty list to store dictionaries\n",
    "data_list = []\n"
   ]
  },
  {
   "cell_type": "code",
   "execution_count": null,
   "id": "09b3dea7",
   "metadata": {},
   "outputs": [],
   "source": [
    "# Loop through the text elements\n",
    "text_elements = soup.find_all(text=True)\n",
    "for text in text_elements:\n",
    "    \n",
    "    # Extract the title and preview text from the elements\n",
    "    title = text.strip() \n",
    "    # Store each title and preview pair in a dictionary\n",
    "    preview = \"\"\n",
    "    \n",
    "    data_dict = {\n",
    "        'title': title,\n",
    "        'preview': preview\n",
    "    }\n",
    "    \n",
    "    # Add the dictionary to the list\n",
    "    data_list.append(data_dict)\n",
    "\n",
    "# Print the extracted data list\n",
    "print(data_list)\n",
    "\n",
    "browser.quit()\n"
   ]
  }
 ],
 "metadata": {
  "kernelspec": {
   "display_name": "Python 3 (ipykernel)",
   "language": "python",
   "name": "python3"
  },
  "language_info": {
   "codemirror_mode": {
    "name": "ipython",
    "version": 3
   },
   "file_extension": ".py",
   "mimetype": "text/x-python",
   "name": "python",
   "nbconvert_exporter": "python",
   "pygments_lexer": "ipython3",
   "version": "3.11.3"
  }
 },
 "nbformat": 4,
 "nbformat_minor": 5
}
