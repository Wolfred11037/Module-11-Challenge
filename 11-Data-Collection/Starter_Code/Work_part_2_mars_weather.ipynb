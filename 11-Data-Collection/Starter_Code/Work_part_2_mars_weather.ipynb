{
 "cells": [
  {
   "cell_type": "code",
   "execution_count": null,
   "id": "0899cfdb",
   "metadata": {},
   "outputs": [],
   "source": [
    "# Import relevant libraries\n",
    "from splinter import Browser\n",
    "from bs4 import BeautifulSoup\n",
    "import matplotlib.pyplot as plt\n",
    "import pandas as pd"
   ]
  },
  {
   "cell_type": "code",
   "execution_count": null,
   "id": "400c1ba9",
   "metadata": {},
   "outputs": [],
   "source": [
    "browser = Browser('chrome')"
   ]
  },
  {
   "cell_type": "code",
   "execution_count": null,
   "id": "853bc7f7",
   "metadata": {},
   "outputs": [],
   "source": [
    "url = 'https://static.bc-edx.com/data/web/mars_facts/temperature.html'\n",
    "browser.visit(url)\n",
    "html = browser.html\n",
    "\n",
    "# Create a Beautiful Soup object\n",
    "soup = BeautifulSoup(html, 'html.parser')\n"
   ]
  },
  {
   "cell_type": "code",
   "execution_count": null,
   "id": "e7bf2924",
   "metadata": {},
   "outputs": [],
   "source": [
    "# Extract the table\n",
    "table = soup.find('table')\n",
    "\n",
    "# Extract all rows of data\n",
    "rows = table.find_all('tr')\n"
   ]
  },
  {
   "cell_type": "code",
   "execution_count": null,
   "id": "cf953c0b",
   "metadata": {},
   "outputs": [],
   "source": [
    "# Create an empty list\n",
    "data_list = []\n",
    "\n",
    "# Loop through the rows skipping header row\n",
    "for row in rows[1:]:\n",
    "    columns = row.find_all('td')\n",
    "    # Extract data from columns\n",
    "    data = {\n",
    "        'location': columns[0].text.strip(),\n",
    "        'high_temp': columns[1].text.strip(),\n",
    "        'low_temp': columns[2].text.strip()\n",
    "    }\n",
    "    data_list.append(data)\n",
    "\n"
   ]
  },
  {
   "cell_type": "code",
   "execution_count": null,
   "id": "19a561ee",
   "metadata": {},
   "outputs": [],
   "source": [
    "# Create a Pandas DataFrame using the lists of column names and data rows\n",
    "df = pd.DataFrame(data_rows, columns=column_names)\n",
    "\n",
    "# Print the DataFrame\n",
    "print(df)"
   ]
  },
  {
   "cell_type": "code",
   "execution_count": null,
   "id": "3e0dc6c8",
   "metadata": {},
   "outputs": [],
   "source": [
    "# Change data types for columns\n",
    "df['terrestrial_date'] = pd.to_datetime(df['terrestrial_date'])\n",
    "numeric_columns = ['sol', 'ls', 'month', 'min_temp', 'pressure']\n",
    "df[numeric_columns] = df[numeric_columns].astype(float)\n",
    "\n",
    "# Print the DataFrame to confirm data type changes\n",
    "print(\"\\nData Types After Changes:\")\n",
    "print(df.dtypes)"
   ]
  },
  {
   "cell_type": "code",
   "execution_count": null,
   "id": "88ec3a16",
   "metadata": {},
   "outputs": [],
   "source": [
    "# 1. How many months are there on Mars?\n",
    "# Print the count of unique months\n",
    "print(df['month'].value_counts())"
   ]
  },
  {
   "cell_type": "code",
   "execution_count": null,
   "id": "9bcfd762",
   "metadata": {},
   "outputs": [],
   "source": [
    "# 2. How many Martian days' worth of data are there?\n",
    "# Print the count of unique sol values (Martian days)\n",
    "print(df['sol'].nunique())\n"
   ]
  },
  {
   "cell_type": "code",
   "execution_count": null,
   "id": "7a2e24df",
   "metadata": {},
   "outputs": [],
   "source": [
    "# 3. What is the average low temperature by month?\n",
    "# Calculate the average low temperature by month\n",
    "average_low_temp_by_month = df.groupby('month')['low_temp'].mean()\n",
    "\n",
    "print(average_low_temp_by_month)\n"
   ]
  },
  {
   "cell_type": "code",
   "execution_count": null,
   "id": "73597749",
   "metadata": {},
   "outputs": [],
   "source": [
    "# Plot the average temperature by month\n",
    "import matplotlib.pyplot as plt\n",
    "\n",
    "# Calculate the average low temperature by month\n",
    "average_low_temp_by_month = df.groupby('month')['low_temp'].mean()\n",
    "\n",
    "# Plot the average temperature by month\n",
    "plt.figure(figsize=(10, 6))\n",
    "plt.plot(average_low_temp_by_month.index, average_low_temp_by_month.values, marker='o')\n",
    "plt.title('Average Low Temperature by Month on Mars')\n",
    "plt.xlabel('Month')\n",
    "plt.ylabel('Average Low Temperature (°C)')\n",
    "plt.xticks(average_low_temp_by_month.index)\n",
    "plt.grid(True)\n",
    "plt.show()\n"
   ]
  },
  {
   "cell_type": "code",
   "execution_count": null,
   "id": "12679306",
   "metadata": {},
   "outputs": [],
   "source": [
    "# Identify the coldest and hottest months in Curiosity's location\n",
    "import matplotlib.pyplot as plt\n",
    "\n",
    "# Identify the coldest and hottest months\n",
    "coldest_month = df.loc[df['min_temp'].idxmin()]['month']\n",
    "hottest_month = df.loc[df['min_temp'].idxmax()]['month']\n",
    "\n",
    "# Filter the DataFrame for coldest and hottest months\n",
    "coldest_month_data = df[df['month'] == coldest_month]\n",
    "hottest_month_data = df[df['month'] == hottest_month]\n",
    "\n",
    "# Plot the data for coldest and hottest months\n",
    "plt.figure(figsize=(10, 6))\n",
    "plt.plot(coldest_month_data['sol'], coldest_month_data['min_temp'], label=f'Coldest Month ({coldest_month})', marker='o')\n",
    "plt.plot(hottest_month_data['sol'], hottest_month_data['min_temp'], label=f'Hottest Month ({hottest_month})', marker='o')\n",
    "plt.title('Coldest and Hottest Months in Curiosity\\'s Location on Mars')\n",
    "plt.xlabel('Sol (Martian Day)')\n",
    "plt.ylabel('Minimum Temperature (°C)')\n",
    "plt.legend()\n",
    "plt.grid(True)\n",
    "plt.show()\n"
   ]
  },
  {
   "cell_type": "code",
   "execution_count": null,
   "id": "a1fe49cf",
   "metadata": {},
   "outputs": [],
   "source": [
    "    # 4. Average pressure by Martian month\n",
    "# Calculate the average pressure by month\n",
    "average_pressure_by_month = df.groupby('month')['pressure'].mean()\n",
    "\n",
    "# Create a DataFrame from the calculated data\n",
    "average_pressure_table = pd.DataFrame({\n",
    "    'Month': average_pressure_by_month.index,\n",
    "    'Average Pressure': average_pressure_by_month.values\n",
    "})\n",
    "\n",
    "# Print the table\n",
    "print(average_pressure_table)\n"
   ]
  },
  {
   "cell_type": "code",
   "execution_count": null,
   "id": "f156c81b",
   "metadata": {},
   "outputs": [],
   "source": [
    "import matplotlib.pyplot as plt\n",
    "\n",
    "# Calculate the average pressure by month\n",
    "average_pressure_by_month = df.groupby('month')['pressure'].mean()\n",
    "\n",
    "# Plot the average pressure by Martian month\n",
    "plt.figure(figsize=(10, 6))\n",
    "average_pressure_by_month.plot(kind='bar', color='skyblue')\n",
    "plt.title('Average Pressure by Martian Month')\n",
    "plt.xlabel('Month')\n",
    "plt.ylabel('Average Pressure (hPa)')\n",
    "plt.xticks(rotation=0)\n",
    "plt.grid(axis='y')\n",
    "plt.show()\n"
   ]
  },
  {
   "cell_type": "code",
   "execution_count": null,
   "id": "2b8f3db9",
   "metadata": {},
   "outputs": [],
   "source": [
    "# 5. How many terrestrial (earth) days are there in a Martian year?\n",
    "import matplotlib.pyplot as plt\n",
    "\n",
    "# Plot the daily minimum temperature\n",
    "plt.figure(figsize=(10, 6))\n",
    "plt.plot(df['sol'], df['min_temp'], marker='o', linestyle='-', color='blue')\n",
    "plt.title('Daily Minimum Temperature on Mars')\n",
    "plt.xlabel('Sol (Martian Day)')\n",
    "plt.ylabel('Minimum Temperature (°C)')\n",
    "plt.grid(True)\n",
    "plt.show()\n",
    "\n"
   ]
  },
  {
   "cell_type": "code",
   "execution_count": null,
   "id": "f0b87dd8",
   "metadata": {},
   "outputs": [],
   "source": [
    "# Export the DataFrame to a CSV file\n",
    "df.to_csv('mars_temperature_data.csv', index=False)\n"
   ]
  },
  {
   "cell_type": "code",
   "execution_count": null,
   "id": "3b22798a",
   "metadata": {},
   "outputs": [],
   "source": [
    "browser.quit()"
   ]
  },
  {
   "cell_type": "code",
   "execution_count": null,
   "id": "f671fd72",
   "metadata": {},
   "outputs": [],
   "source": []
  }
 ],
 "metadata": {
  "kernelspec": {
   "display_name": "Python 3 (ipykernel)",
   "language": "python",
   "name": "python3"
  },
  "language_info": {
   "codemirror_mode": {
    "name": "ipython",
    "version": 3
   },
   "file_extension": ".py",
   "mimetype": "text/x-python",
   "name": "python",
   "nbconvert_exporter": "python",
   "pygments_lexer": "ipython3",
   "version": "3.11.3"
  }
 },
 "nbformat": 4,
 "nbformat_minor": 5
}
